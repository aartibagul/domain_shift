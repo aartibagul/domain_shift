{
 "cells": [
  {
   "cell_type": "code",
   "execution_count": 1,
   "metadata": {
    "collapsed": false
   },
   "outputs": [],
   "source": [
    "import matplotlib.pyplot as plt\n",
    "import numpy as np\n",
    "import random\n",
    "%matplotlib inline \n",
    "from __future__ import division\n",
    "from sympy import Symbol, init_printing\n",
    "from sympy.solvers import solve\n",
    "from IPython.display import display\n",
    "init_printing() "
   ]
  },
  {
   "cell_type": "code",
   "execution_count": 10,
   "metadata": {
    "collapsed": false
   },
   "outputs": [],
   "source": [
    "#Pick a random value of z and generate training points (x1,x2, y) such that x1,x2 & y are conditionally independent given z\n",
    "pz = np.random.random()\n",
    "x1_z0 = np.random.random()\n",
    "x1_z1 = np.random.random()\n",
    "x2_z0 = np.random.random()\n",
    "x2_z1 = np.random.random()\n",
    "y_z0 = np.random.random()\n",
    "y_z1 = np.random.random()\n",
    "\n",
    "px1 = pz*x1_z0+(1-pz)*x1_z1\n",
    "px2 = pz*x2_z0+(1-pz)*x2_z1\n",
    "py = pz*y_z0+(1-pz)*y_z1\n",
    "\n",
    "n        = 1 #Bernoulli random variable\n",
    "nsamples = 10000\n",
    "x1_train  = np.random.binomial(n, 1-px1, size=(nsamples,))\n",
    "x2_train  = np.random.binomial(n, 1-px2, size=(nsamples,))\n",
    "y_train  = np.random.binomial(n, 1-py, size=(nsamples,))\n",
    "\n",
    "#generate test data such that p(y|z) and p(x2|z) is the same but p(x1|z) is different\n",
    "new_x1_z0 = np.random.random()\n",
    "new_x1_z1 = np.random.random()\n",
    "\n",
    "new_px1 = pz*new_x1_z0+(1-pz)*new_x1_z1\n",
    "x1_test  = np.random.binomial(n, 1-new_px1, size=(nsamples,))\n",
    "x2_test  = np.random.binomial(n, 1-px2, size=(nsamples,))\n",
    "y_test  = np.random.binomial(n, 1-py, size=(nsamples,))\n",
    "\n",
    "#pick a random z, find p(x|z), p(y|z)\n",
    "temp_z = np.random.random()\n",
    "\n",
    "#estimates for p(x1), p(x2),p(y), p(x1,x2), p(x1,y),p(x2,y) from data\n",
    "cal_x1 = sum(x1_train ==0)/nsamples\n",
    "cal_x2 = sum(x2_train ==0)/nsamples\n",
    "cal_y = sum(y_train ==0)/nsamples\n",
    "\n",
    "cal_x1x2 =  sum([u==0 and v==0 for u,v in zip(x1_train,x2_train)])/nsamples\n",
    "cal_x1y =  sum([u==0 and v==0 for u,v in zip(x1_train,y_train)])/nsamples\n",
    "cal_x2y =  sum([u==0 and v==0 for u,v in zip(x2_train,y_train)])/nsamples\n"
   ]
  },
  {
   "cell_type": "code",
   "execution_count": 6,
   "metadata": {
    "collapsed": false
   },
   "outputs": [],
   "source": [
    "#Solving for the conditional probabilities p(x1 =0|z=0),p(x1 =0|z=1), p(x2=0|z=0),p(x2=0|z=1), p(y=0|z=0),p(y=0|z=1)\n",
    "x1 = Symbol('x1')\n",
    "x2 = Symbol('x2')\n",
    "y  = Symbol('y')\n",
    "\n",
    "p12 = Symbol('p12')\n",
    "p1y = Symbol('p1y')\n",
    "p2y = Symbol('p2y')\n",
    "\n",
    "a = Symbol('a')\n",
    "b = Symbol('b')\n",
    "c = Symbol('c')\n",
    "d = Symbol('d')\n",
    "e = Symbol('e')\n",
    "f = Symbol('f')\n",
    "\n",
    "z0 = Symbol('z0')\n",
    "\n",
    "sols = solve([\n",
    "    z0 * a + (1 - z0) * b - x1,\n",
    "    z0 * c + (1 - z0) * d - x2,\n",
    "    z0 * e + (1 - z0) * f - y,\n",
    "\n",
    "    z0 * a * c + (1 - z0) * b * d - p12,\n",
    "    z0 * a * e + (1 - z0) * b * f - p1y,\n",
    "    z0 * c * e + (1 - z0) * d * f - p2y\n",
    "], a, b, c, d, e, f, dict=True)\n",
    "\n",
    "def compute_sols(x1_, x2_, y_, p12_, p1y_, p2y_, z0_):\n",
    "    def evaluate(s):\n",
    "        return s.evalf(subs={x1: x1_, x2: x2_, y: y_, p12: p12_, p1y: p1y_, p2y: p2y_, z0: z0_})\n",
    "    \n",
    "    return [dict([(k, evaluate(s)) for k, s in sols[i].items()]) for i in range(2)]\n"
   ]
  },
  {
   "cell_type": "code",
   "execution_count": 11,
   "metadata": {
    "collapsed": false
   },
   "outputs": [
    {
     "name": "stdout",
     "output_type": "stream",
     "text": [
      "[{f: 0.4507 + 0.0573576708935612*I, c: 0.1347 - 0.0454915612742027*I, d: 0.1347 + 0.0545915413981772*I, a: 0.3676 - 0.0222693840265991*I, e: 0.4507 - 0.0477965987618572*I, b: 0.3676 + 0.026724077300231*I}, {f: 0.4507 - 0.0573576708935612*I, c: 0.1347 + 0.0454915612742027*I, d: 0.1347 - 0.0545915413981772*I, a: 0.3676 + 0.0222693840265991*I, e: 0.4507 + 0.0477965987618572*I, b: 0.3676 - 0.026724077300231*I}]\n"
     ]
    }
   ],
   "source": [
    "print(compute_sols(cal_x1, cal_x2, cal_y, cal_x1x2, cal_x1y, cal_x2y, temp_z))"
   ]
  },
  {
   "cell_type": "code",
   "execution_count": null,
   "metadata": {
    "collapsed": true
   },
   "outputs": [],
   "source": [
    "'''\n",
    "p_yx = (pz*y_z0*x_z0 + (1-pz)*y_z1*x_z1)/px\n",
    "new_p_yx = (pz*y_z0*x_z0 + (1-pz)*y_z1*new_x_z1)/new_px\n",
    "\n",
    "\n",
    "# cal_x = pz* a+(1-pz)*b\n",
    "# cal_y = pz*c + (1-pz)*d\n",
    "# p_yx * cal_x = pz* ac + (1-pz)* bd \n",
    "\n",
    "pred_y_z0=\n",
    "pred_y_z1=\n",
    "\n",
    "pred_x_z0=\n",
    "pred_x_z1=\n",
    "\n",
    "#see how p(y|x) compares to the true underlying distribution\n",
    "\n",
    "pred_p_yx = (pz*pred_y_z0*pred_x_z0 + (1-pz)*pred_y_z1*pred_x_z1)/cal_x\n",
    "\n",
    "new_pred_p_yx = (pz*pred_y_z0*new_pred_x_z0 + (1-pz)*pred_y_z1*new_pred_x_z1)/cal_x\n",
    "\n",
    "#Given p_test(x), find new p_test(x|z), and find p(y|x) for test\n",
    "\n",
    "cal_x_test = sum(x_train ==0)/nsamples\n",
    "'''"
   ]
  }
 ],
 "metadata": {
  "anaconda-cloud": {},
  "kernelspec": {
   "display_name": "Python [default]",
   "language": "python",
   "name": "python2"
  },
  "language_info": {
   "codemirror_mode": {
    "name": "ipython",
    "version": 2
   },
   "file_extension": ".py",
   "mimetype": "text/x-python",
   "name": "python",
   "nbconvert_exporter": "python",
   "pygments_lexer": "ipython2",
   "version": "2.7.12"
  }
 },
 "nbformat": 4,
 "nbformat_minor": 1
}
