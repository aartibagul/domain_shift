{
 "cells": [
  {
   "cell_type": "code",
   "execution_count": 102,
   "metadata": {
    "collapsed": true
   },
   "outputs": [],
   "source": [
    "import matplotlib.pyplot as plt\n",
    "import numpy as np\n",
    "import random\n",
    "%matplotlib inline \n",
    "from __future__ import division\n",
    "from sympy import Symbol, init_printing\n",
    "from sympy.solvers import solve\n",
    "from IPython.display import display\n",
    "init_printing() "
   ]
  },
  {
   "cell_type": "code",
   "execution_count": 161,
   "metadata": {
    "collapsed": true
   },
   "outputs": [],
   "source": [
    "#Pick a random value of z and generate training points (x, y) such that x & y are conditionally independent given z\n",
    "pz = np.random.random()\n",
    "x_z0 = np.random.random()\n",
    "x_z1 = np.random.random()\n",
    "y_z0 = np.random.random()\n",
    "y_z1 = np.random.random()\n",
    "\n",
    "px = pz*x_z0+(1-pz)*x_z1\n",
    "py = pz*y_z0+(1-pz)*y_z1\n",
    "\n",
    "n        = 1 #Bernoulli random variable\n",
    "nsamples = 10000\n",
    "x_train  = np.random.binomial(n, 1-px, size=(nsamples,))\n",
    "y_train  = np.random.binomial(n, 1-py, size=(nsamples,))\n",
    "\n",
    "#generate test data such that p(y|z) is the same but p(x|z) is different\n",
    "new_x_z0 = np.random.random()\n",
    "new_x_z1 = np.random.random()\n",
    "\n",
    "new_px = pz*new_x_z0+(1-pz)*new_x_z1\n",
    "x_test  = np.random.binomial(n, 1-new_px, size=(nsamples,))\n",
    "y_test  = np.random.binomial(n, 1-py, size=(nsamples,))\n",
    "\n",
    "\n",
    "#estimates for p(x),p(y),p(x,y) from training data\n",
    "cal_x = sum(x_train ==0)/nsamples\n",
    "cal_y = sum(y_train ==0)/nsamples\n",
    "\n",
    "cal_xy =  sum([u==0 and v==0 for u,v in zip(x_train,y_train)])/nsamples\n",
    "\n",
    "#estimates for p(x) from  test data\n",
    "test_x = sum(x_test ==0)/nsamples\n",
    "test_xy =  sum([u==0 and v==0 for u,v in zip(x_test,y_test)])/nsamples\n"
   ]
  },
  {
   "cell_type": "code",
   "execution_count": 169,
   "metadata": {
    "collapsed": false
   },
   "outputs": [],
   "source": [
    "#Solving for the conditional probabilities b = p(x =0|z=1), c = p(y=0|z=0),d =p(y=0|z=1)\n",
    "x = Symbol('x')\n",
    "y  = Symbol('y')\n",
    "\n",
    "p_xy = Symbol('p_xy')\n",
    "\n",
    "a = Symbol('a')\n",
    "b = Symbol('b')\n",
    "c = Symbol('c')\n",
    "d = Symbol('d')\n",
    "\n",
    "z_0 = Symbol('z_0')\n",
    "\n",
    "sols = solve([\n",
    "    z_0 * a + (1 - z_0) * b - x,\n",
    "    z_0 * c + (1 - z_0) * d - y,\n",
    "\n",
    "    z_0 * a * c + (1 - z_0) * b * d - p_xy\n",
    "], b, c, d, dict=True)\n",
    "\n",
    "def compute_sols(cal_x, cal_y, cal_xy, cal_z, cal_a):\n",
    "    def evaluate(s):\n",
    "        return s.evalf(subs={x: cal_x, y: cal_y, p_xy: cal_xy, z_0: cal_z, a: cal_a})\n",
    "    \n",
    "    return dict((k, evaluate(s)) for k, s in sols[0].items())"
   ]
  },
  {
   "cell_type": "code",
   "execution_count": 163,
   "metadata": {
    "collapsed": false
   },
   "outputs": [
    {
     "data": {
      "image/png": "[encoded data removed]",
      "text/latex": [
       "$$\\left [ \\left \\{ b : \\frac{a z_{0} - x}{z_{0} - 1}, \\quad c : \\frac{1}{z_{0} \\left(a - x\\right)} \\left(a y z_{0} - p_{xy} z_{0} + p_{xy} - x y\\right), \\quad d : \\frac{a y - p_{xy}}{a - x}\\right \\}\\right ]$$"
      ],
      "text/plain": [
       "⎡⎧   a⋅z₀ - x     a⋅y⋅z₀ - p_xy⋅z₀ + p_xy - x⋅y     a⋅y - p_xy⎫⎤\n",
       "⎢⎨b: ────────, c: ─────────────────────────────, d: ──────────⎬⎥\n",
       "⎣⎩    z₀ - 1                z₀⋅(a - x)                a - x   ⎭⎦"
      ]
     },
     "execution_count": 163,
     "metadata": {},
     "output_type": "execute_result"
    }
   ],
   "source": [
    "sols"
   ]
  },
  {
   "cell_type": "code",
   "execution_count": 164,
   "metadata": {
    "collapsed": true
   },
   "outputs": [],
   "source": [
    "x = Symbol('x')\n",
    "y  = Symbol('y')\n",
    "\n",
    "p_xy = Symbol('p_xy')\n",
    "\n",
    "a = Symbol('a')\n",
    "b = Symbol('b')\n",
    "c = Symbol('c')\n",
    "d = Symbol('d')\n",
    "\n",
    "z_0 = Symbol('z_0')\n",
    "test_sols = solve([\n",
    "    z_0 * a + (1 - z_0) * b - x,\n",
    "    z_0 * a * c + (1 - z_0) * b * d - p_xy\n",
    "], a, b, dict=True)\n",
    "\n",
    "def compute_sols_test(cal_x, cal_xy, cal_z, cal_c, cal_d):\n",
    "    def evaluate(s):\n",
    "        return s.evalf(subs={x: cal_x, p_xy: cal_xy, z_0: cal_z, c: cal_c, d: cal_d})\n",
    "    \n",
    "    return dict((k, evaluate(s)) for k, s in test_sols[0].items())"
   ]
  },
  {
   "cell_type": "code",
   "execution_count": 165,
   "metadata": {
    "collapsed": false
   },
   "outputs": [
    {
     "data": {
      "image/png": "[encoded data removed]",
      "text/latex": [
       "$$\\left [ \\left \\{ a : \\frac{- d x + p_{xy}}{z_{0} \\left(c - d\\right)}, \\quad b : \\frac{- c x + p_{xy}}{\\left(c - d\\right) \\left(z_{0} - 1\\right)}\\right \\}\\right ]$$"
      ],
      "text/plain": [
       "⎡⎧   -d⋅x + p_xy       -c⋅x + p_xy   ⎫⎤\n",
       "⎢⎨a: ───────────, b: ────────────────⎬⎥\n",
       "⎣⎩    z₀⋅(c - d)     (c - d)⋅(z₀ - 1)⎭⎦"
      ]
     },
     "execution_count": 165,
     "metadata": {},
     "output_type": "execute_result"
    }
   ],
   "source": [
    "test_sols"
   ]
  },
  {
   "cell_type": "code",
   "execution_count": null,
   "metadata": {
    "collapsed": false
   },
   "outputs": [],
   "source": []
  },
  {
   "cell_type": "code",
   "execution_count": 170,
   "metadata": {
    "collapsed": false
   },
   "outputs": [
    {
     "name": "stdout",
     "output_type": "stream",
     "text": [
      "z:  0.558448919603\n",
      "p(y|x):  0.118890356671\n",
      "test p(y|x):  0.123803446075\n",
      "temp_z:  0.1  y|x:  0.118890356671070\n",
      "temp_z:  0.2  y|x:  0.118890356671070\n",
      "temp_z:  0.3  y|x:  0.118890356671070\n",
      "temp_z:  0.4  y|x:  0.118890356671070\n",
      "temp_z:  0.5  y|x:  0.118890356671070\n",
      "temp_z:  0.6  y|x:  0.118890356671070\n",
      "temp_z:  0.7  y|x:  0.118890356671070\n",
      "temp_z:  0.8  y|x:  0.118890356671070\n",
      "temp_z:  0.9  y|x:  0.118890356671070\n"
     ]
    }
   ],
   "source": [
    "print \"z: \", pz\n",
    "print \"p(y|x): \",  cal_xy/cal_x\n",
    "print \"test p(y|x): \",  test_xy/test_x\n",
    "for temp_z in np.arange(0.1,1,0.1):\n",
    "    x_00 = np.random.random()\n",
    "    sol = compute_sols(cal_x, cal_y, cal_xy, temp_z, x_00)\n",
    "    x_01, y_00, y_01 = sol[b],sol[c],sol[d]\n",
    "\n",
    "    sol_test= compute_sols_test(test_x, np.random.random(), temp_z, y_00, y_01)\n",
    "    #test_x00, test_x01 = sol_test[a],sol_test[b]\n",
    "    \n",
    "    print \"temp_z: \", temp_z, \" y|x: \", ((temp_z*y_00*x_00 + (1-temp_z)*y_01*x_01)/cal_x)#,\\\n",
    "     #\"  test y|x: \", ((temp_z*y_00*test_x00 + (1-temp_z)*y_01*test_x01)/test_x)"
   ]
  },
  {
   "cell_type": "code",
   "execution_count": 92,
   "metadata": {
    "collapsed": false
   },
   "outputs": [],
   "source": [
    "\n",
    "\n"
   ]
  },
  {
   "cell_type": "code",
   "execution_count": 117,
   "metadata": {
    "collapsed": false
   },
   "outputs": [
    {
     "name": "stdout",
     "output_type": "stream",
     "text": [
      "0.235939643347051 0.235939643347\n"
     ]
    }
   ],
   "source": [
    " print (temp_z*y_00*x_00 + (1-temp_z)*y_01*x_01)/cal_x, cal_xy/cal_x"
   ]
  },
  {
   "cell_type": "code",
   "execution_count": 114,
   "metadata": {
    "collapsed": false
   },
   "outputs": [
    {
     "data": {
      "image/png": "[encoded data removed]",
      "text/latex": [
       "$$0.431146337958476$$"
      ],
      "text/plain": [
       "0.431146337958476"
      ]
     },
     "execution_count": 114,
     "metadata": {},
     "output_type": "execute_result"
    }
   ],
   "source": [
    "(temp_z*y_00*x_00 + (1-temp_z)*y_01*x_01)"
   ]
  },
  {
   "cell_type": "code",
   "execution_count": null,
   "metadata": {
    "collapsed": true
   },
   "outputs": [],
   "source": []
  }
 ],
 "metadata": {
  "anaconda-cloud": {},
  "kernelspec": {
   "display_name": "Python [default]",
   "language": "python",
   "name": "python2"
  },
  "language_info": {
   "codemirror_mode": {
    "name": "ipython",
    "version": 2
   },
   "file_extension": ".py",
   "mimetype": "text/x-python",
   "name": "python",
   "nbconvert_exporter": "python",
   "pygments_lexer": "ipython2",
   "version": "2.7.12"
  }
 },
 "nbformat": 4,
 "nbformat_minor": 1
}
